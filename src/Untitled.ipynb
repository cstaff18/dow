{
 "cells": [
  {
   "cell_type": "code",
   "execution_count": 2,
   "metadata": {
    "collapsed": true
   },
   "outputs": [],
   "source": [
    "import pandas as pd\n",
    "import numpy as np \n",
    "import matplotlib.pyplot as plt"
   ]
  },
  {
   "cell_type": "code",
   "execution_count": 3,
   "metadata": {
    "collapsed": true
   },
   "outputs": [],
   "source": [
    "intc_df = pd.read_csv('../data/INTC.csv')"
   ]
  },
  {
   "cell_type": "code",
   "execution_count": 4,
   "metadata": {
    "collapsed": true
   },
   "outputs": [],
   "source": [
    "null_df = intc_df[intc_df.Volume.isna()]"
   ]
  },
  {
   "cell_type": "code",
   "execution_count": 5,
   "metadata": {},
   "outputs": [
    {
     "data": {
      "text/html": [
       "<div>\n",
       "<style scoped>\n",
       "    .dataframe tbody tr th:only-of-type {\n",
       "        vertical-align: middle;\n",
       "    }\n",
       "\n",
       "    .dataframe tbody tr th {\n",
       "        vertical-align: top;\n",
       "    }\n",
       "\n",
       "    .dataframe thead th {\n",
       "        text-align: right;\n",
       "    }\n",
       "</style>\n",
       "<table border=\"1\" class=\"dataframe\">\n",
       "  <thead>\n",
       "    <tr style=\"text-align: right;\">\n",
       "      <th></th>\n",
       "      <th>Date</th>\n",
       "      <th>Open</th>\n",
       "      <th>High</th>\n",
       "      <th>Low</th>\n",
       "      <th>Close</th>\n",
       "      <th>Volume</th>\n",
       "      <th>Name</th>\n",
       "    </tr>\n",
       "  </thead>\n",
       "  <tbody>\n",
       "    <tr>\n",
       "      <th>0</th>\n",
       "      <td>2006-01-03</td>\n",
       "      <td>25.19</td>\n",
       "      <td>25.64</td>\n",
       "      <td>24.90</td>\n",
       "      <td>25.57</td>\n",
       "      <td>56409085</td>\n",
       "      <td>INTC</td>\n",
       "    </tr>\n",
       "    <tr>\n",
       "      <th>1</th>\n",
       "      <td>2006-01-04</td>\n",
       "      <td>25.60</td>\n",
       "      <td>25.94</td>\n",
       "      <td>25.59</td>\n",
       "      <td>25.91</td>\n",
       "      <td>46189650</td>\n",
       "      <td>INTC</td>\n",
       "    </tr>\n",
       "    <tr>\n",
       "      <th>2</th>\n",
       "      <td>2006-01-05</td>\n",
       "      <td>25.93</td>\n",
       "      <td>26.47</td>\n",
       "      <td>25.91</td>\n",
       "      <td>26.27</td>\n",
       "      <td>54893195</td>\n",
       "      <td>INTC</td>\n",
       "    </tr>\n",
       "    <tr>\n",
       "      <th>3</th>\n",
       "      <td>2006-01-06</td>\n",
       "      <td>26.48</td>\n",
       "      <td>26.63</td>\n",
       "      <td>26.21</td>\n",
       "      <td>26.31</td>\n",
       "      <td>45703307</td>\n",
       "      <td>INTC</td>\n",
       "    </tr>\n",
       "    <tr>\n",
       "      <th>4</th>\n",
       "      <td>2006-01-09</td>\n",
       "      <td>26.39</td>\n",
       "      <td>26.51</td>\n",
       "      <td>26.09</td>\n",
       "      <td>26.47</td>\n",
       "      <td>39461729</td>\n",
       "      <td>INTC</td>\n",
       "    </tr>\n",
       "  </tbody>\n",
       "</table>\n",
       "</div>"
      ],
      "text/plain": [
       "         Date   Open   High    Low  Close    Volume  Name\n",
       "0  2006-01-03  25.19  25.64  24.90  25.57  56409085  INTC\n",
       "1  2006-01-04  25.60  25.94  25.59  25.91  46189650  INTC\n",
       "2  2006-01-05  25.93  26.47  25.91  26.27  54893195  INTC\n",
       "3  2006-01-06  26.48  26.63  26.21  26.31  45703307  INTC\n",
       "4  2006-01-09  26.39  26.51  26.09  26.47  39461729  INTC"
      ]
     },
     "execution_count": 5,
     "metadata": {},
     "output_type": "execute_result"
    }
   ],
   "source": [
    "intc_df.head()\n"
   ]
  },
  {
   "cell_type": "code",
   "execution_count": 20,
   "metadata": {},
   "outputs": [
    {
     "data": {
      "text/html": [
       "<div>\n",
       "<style scoped>\n",
       "    .dataframe tbody tr th:only-of-type {\n",
       "        vertical-align: middle;\n",
       "    }\n",
       "\n",
       "    .dataframe tbody tr th {\n",
       "        vertical-align: top;\n",
       "    }\n",
       "\n",
       "    .dataframe thead th {\n",
       "        text-align: right;\n",
       "    }\n",
       "</style>\n",
       "<table border=\"1\" class=\"dataframe\">\n",
       "  <thead>\n",
       "    <tr style=\"text-align: right;\">\n",
       "      <th></th>\n",
       "      <th>Date</th>\n",
       "      <th>Open</th>\n",
       "      <th>High</th>\n",
       "      <th>Low</th>\n",
       "      <th>Close</th>\n",
       "      <th>Volume</th>\n",
       "      <th>Name</th>\n",
       "    </tr>\n",
       "  </thead>\n",
       "  <tbody>\n",
       "  </tbody>\n",
       "</table>\n",
       "</div>"
      ],
      "text/plain": [
       "Empty DataFrame\n",
       "Columns: [Date, Open, High, Low, Close, Volume, Name]\n",
       "Index: []"
      ]
     },
     "execution_count": 20,
     "metadata": {},
     "output_type": "execute_result"
    }
   ],
   "source": [
    "null_df"
   ]
  },
  {
   "cell_type": "code",
   "execution_count": 21,
   "metadata": {},
   "outputs": [
    {
     "data": {
      "text/plain": [
       "Date      0\n",
       "Open      0\n",
       "High      0\n",
       "Low       0\n",
       "Close     0\n",
       "Volume    0\n",
       "Name      0\n",
       "dtype: int64"
      ]
     },
     "execution_count": 21,
     "metadata": {},
     "output_type": "execute_result"
    }
   ],
   "source": [
    "intc_df.isnull().sum()"
   ]
  },
  {
   "cell_type": "code",
   "execution_count": 33,
   "metadata": {
    "collapsed": true
   },
   "outputs": [],
   "source": [
    "intc_nodate_df = intc_df.filter(['Open', 'High', 'Low', 'Close', 'Volume'])"
   ]
  },
  {
   "cell_type": "code",
   "execution_count": 32,
   "metadata": {},
   "outputs": [
    {
     "data": {
      "text/plain": [
       "Index(['Date', 'Open', 'High', 'Low', 'Close', 'Volume', 'Name'], dtype='object')"
      ]
     },
     "execution_count": 32,
     "metadata": {},
     "output_type": "execute_result"
    }
   ],
   "source": [
    "intc_df.columns\n"
   ]
  },
  {
   "cell_type": "code",
   "execution_count": 38,
   "metadata": {
    "collapsed": true
   },
   "outputs": [],
   "source": [
    "intc_nodate_df.to_csv('/Users/Coho/DSI/casestudy/dow/data/intc_nonamedate.csv')"
   ]
  },
  {
   "cell_type": "code",
   "execution_count": 79,
   "metadata": {
    "collapsed": true
   },
   "outputs": [],
   "source": [
    "df = pd.read_csv('../data/intc_nonamedate.csv',index_col = 0)\n",
    "seq_len = 60\n",
    "data = df.values\n",
    "sequence_length = seq_len + 1\n",
    "result = []\n",
    "for index in range(len(data) - sequence_length):\n",
    "    result.append(data[index: index + sequence_length])\n",
    "\n",
    "    "
   ]
  },
  {
   "cell_type": "code",
   "execution_count": 80,
   "metadata": {},
   "outputs": [
    {
     "data": {
      "text/plain": [
       "(61, 5)"
      ]
     },
     "execution_count": 80,
     "metadata": {},
     "output_type": "execute_result"
    }
   ],
   "source": [
    "result[0].shape\n",
    "\n"
   ]
  },
  {
   "cell_type": "code",
   "execution_count": 75,
   "metadata": {},
   "outputs": [
    {
     "data": {
      "text/plain": [
       "array([[[  2.51900000e+01,   2.56400000e+01,   2.49000000e+01,\n",
       "           2.55700000e+01,   5.64090850e+07],\n",
       "        [  2.56000000e+01,   2.59400000e+01,   2.55900000e+01,\n",
       "           2.59100000e+01,   4.61896500e+07],\n",
       "        [  2.59300000e+01,   2.64700000e+01,   2.59100000e+01,\n",
       "           2.62700000e+01,   5.48931950e+07],\n",
       "        ..., \n",
       "        [  1.97500000e+01,   1.98600000e+01,   1.95600000e+01,\n",
       "           1.95800000e+01,   7.26988600e+07],\n",
       "        [  1.96100000e+01,   1.99600000e+01,   1.95100000e+01,\n",
       "           1.98200000e+01,   8.12429930e+07],\n",
       "        [  1.99000000e+01,   2.00300000e+01,   1.96500000e+01,\n",
       "           1.97000000e+01,   7.06563470e+07]],\n",
       "\n",
       "       [[  2.56000000e+01,   2.59400000e+01,   2.55900000e+01,\n",
       "           2.59100000e+01,   4.61896500e+07],\n",
       "        [  2.59300000e+01,   2.64700000e+01,   2.59100000e+01,\n",
       "           2.62700000e+01,   5.48931950e+07],\n",
       "        [  2.64800000e+01,   2.66300000e+01,   2.62100000e+01,\n",
       "           2.63100000e+01,   4.57033070e+07],\n",
       "        ..., \n",
       "        [  1.96100000e+01,   1.99600000e+01,   1.95100000e+01,\n",
       "           1.98200000e+01,   8.12429930e+07],\n",
       "        [  1.99000000e+01,   2.00300000e+01,   1.96500000e+01,\n",
       "           1.97000000e+01,   7.06563470e+07],\n",
       "        [  1.97800000e+01,   1.98800000e+01,   1.93500000e+01,\n",
       "           1.94600000e+01,   8.68987190e+07]],\n",
       "\n",
       "       [[  2.59300000e+01,   2.64700000e+01,   2.59100000e+01,\n",
       "           2.62700000e+01,   5.48931950e+07],\n",
       "        [  2.64800000e+01,   2.66300000e+01,   2.62100000e+01,\n",
       "           2.63100000e+01,   4.57033070e+07],\n",
       "        [  2.63900000e+01,   2.65100000e+01,   2.60900000e+01,\n",
       "           2.64700000e+01,   3.94617290e+07],\n",
       "        ..., \n",
       "        [  1.99000000e+01,   2.00300000e+01,   1.96500000e+01,\n",
       "           1.97000000e+01,   7.06563470e+07],\n",
       "        [  1.97800000e+01,   1.98800000e+01,   1.93500000e+01,\n",
       "           1.94600000e+01,   8.68987190e+07],\n",
       "        [  1.96800000e+01,   1.97000000e+01,   1.93400000e+01,\n",
       "           1.93500000e+01,   7.33611400e+07]],\n",
       "\n",
       "       ..., \n",
       "       [[  3.78400000e+01,   3.81500000e+01,   3.77000000e+01,\n",
       "           3.80800000e+01,   2.32173360e+07],\n",
       "        [  3.81200000e+01,   3.90900000e+01,   3.80800000e+01,\n",
       "           3.90400000e+01,   3.73945140e+07],\n",
       "        [  3.89500000e+01,   3.97000000e+01,   3.89500000e+01,\n",
       "           3.93800000e+01,   3.40021930e+07],\n",
       "        ..., \n",
       "        [  4.75400000e+01,   4.75900000e+01,   4.65600000e+01,\n",
       "           4.67600000e+01,   4.29634510e+07],\n",
       "        [  4.63300000e+01,   4.70200000e+01,   4.60200000e+01,\n",
       "           4.67000000e+01,   3.39135370e+07],\n",
       "        [  4.62800000e+01,   4.64700000e+01,   4.59500000e+01,\n",
       "           4.60800000e+01,   1.55333280e+07]],\n",
       "\n",
       "       [[  3.81200000e+01,   3.90900000e+01,   3.80800000e+01,\n",
       "           3.90400000e+01,   3.73945140e+07],\n",
       "        [  3.89500000e+01,   3.97000000e+01,   3.89500000e+01,\n",
       "           3.93800000e+01,   3.40021930e+07],\n",
       "        [  3.93900000e+01,   3.94000000e+01,   3.88600000e+01,\n",
       "           3.93400000e+01,   2.83688240e+07],\n",
       "        ..., \n",
       "        [  4.63300000e+01,   4.70200000e+01,   4.60200000e+01,\n",
       "           4.67000000e+01,   3.39135370e+07],\n",
       "        [  4.62800000e+01,   4.64700000e+01,   4.59500000e+01,\n",
       "           4.60800000e+01,   1.55333280e+07],\n",
       "        [  4.61100000e+01,   4.63600000e+01,   4.60000000e+01,\n",
       "           4.61100000e+01,   1.33596710e+07]],\n",
       "\n",
       "       [[  3.89500000e+01,   3.97000000e+01,   3.89500000e+01,\n",
       "           3.93800000e+01,   3.40021930e+07],\n",
       "        [  3.93900000e+01,   3.94000000e+01,   3.88600000e+01,\n",
       "           3.93400000e+01,   2.83688240e+07],\n",
       "        [  3.95000000e+01,   3.96500000e+01,   3.92100000e+01,\n",
       "           3.95300000e+01,   1.77102770e+07],\n",
       "        ..., \n",
       "        [  4.62800000e+01,   4.64700000e+01,   4.59500000e+01,\n",
       "           4.60800000e+01,   1.55333280e+07],\n",
       "        [  4.61100000e+01,   4.63600000e+01,   4.60000000e+01,\n",
       "           4.61100000e+01,   1.33596710e+07],\n",
       "        [  4.63600000e+01,   4.63600000e+01,   4.59500000e+01,\n",
       "           4.62200000e+01,   9.50437200e+06]]])"
      ]
     },
     "execution_count": 75,
     "metadata": {},
     "output_type": "execute_result"
    }
   ],
   "source": [
    "result"
   ]
  },
  {
   "cell_type": "code",
   "execution_count": 76,
   "metadata": {
    "collapsed": true
   },
   "outputs": [],
   "source": [
    "normalised_data = []\n",
    "for window in result:\n",
    "    normed = window / window[0] - 1\n",
    "    normalised_data.append(normed)\n",
    "    \n",
    "    "
   ]
  },
  {
   "cell_type": "code",
   "execution_count": 78,
   "metadata": {},
   "outputs": [
    {
     "data": {
      "text/plain": [
       "(2958, 61, 5)"
      ]
     },
     "execution_count": 78,
     "metadata": {},
     "output_type": "execute_result"
    }
   ],
   "source": [
    "result = np.array(normalised_data)\n",
    "result.shape"
   ]
  },
  {
   "cell_type": "code",
   "execution_count": 91,
   "metadata": {},
   "outputs": [
    {
     "name": "stderr",
     "output_type": "stream",
     "text": [
      "ERROR:root:Internal Python error in the inspect module.\n",
      "Below is the traceback from this internal error.\n",
      "\n"
     ]
    },
    {
     "name": "stdout",
     "output_type": "stream",
     "text": [
      "Traceback (most recent call last):\n",
      "  File \"/Users/Coho/anaconda3/lib/python3.6/site-packages/IPython/core/interactiveshell.py\", line 2862, in run_code\n",
      "    exec(code_obj, self.user_global_ns, self.user_ns)\n",
      "  File \"<ipython-input-91-a420dcb02b45>\", line 2, in <module>\n",
      "    import run_lstm.py\n",
      "ModuleNotFoundError: No module named 'run_lstm'\n",
      "\n",
      "During handling of the above exception, another exception occurred:\n",
      "\n",
      "Traceback (most recent call last):\n",
      "  File \"/Users/Coho/anaconda3/lib/python3.6/site-packages/IPython/core/interactiveshell.py\", line 1806, in showtraceback\n",
      "    stb = value._render_traceback_()\n",
      "AttributeError: 'ModuleNotFoundError' object has no attribute '_render_traceback_'\n",
      "\n",
      "During handling of the above exception, another exception occurred:\n",
      "\n",
      "Traceback (most recent call last):\n",
      "  File \"/Users/Coho/anaconda3/lib/python3.6/site-packages/IPython/core/ultratb.py\", line 1090, in get_records\n",
      "    return _fixed_getinnerframes(etb, number_of_lines_of_context, tb_offset)\n",
      "  File \"/Users/Coho/anaconda3/lib/python3.6/site-packages/IPython/core/ultratb.py\", line 311, in wrapped\n",
      "    return f(*args, **kwargs)\n",
      "  File \"/Users/Coho/anaconda3/lib/python3.6/site-packages/IPython/core/ultratb.py\", line 345, in _fixed_getinnerframes\n",
      "    records = fix_frame_records_filenames(inspect.getinnerframes(etb, context))\n",
      "  File \"/Users/Coho/anaconda3/lib/python3.6/inspect.py\", line 1483, in getinnerframes\n",
      "    frameinfo = (tb.tb_frame,) + getframeinfo(tb, context)\n",
      "  File \"/Users/Coho/anaconda3/lib/python3.6/inspect.py\", line 1441, in getframeinfo\n",
      "    filename = getsourcefile(frame) or getfile(frame)\n",
      "  File \"/Users/Coho/anaconda3/lib/python3.6/inspect.py\", line 696, in getsourcefile\n",
      "    if getattr(getmodule(object, filename), '__loader__', None) is not None:\n",
      "  File \"/Users/Coho/anaconda3/lib/python3.6/inspect.py\", line 725, in getmodule\n",
      "    file = getabsfile(object, _filename)\n",
      "  File \"/Users/Coho/anaconda3/lib/python3.6/inspect.py\", line 709, in getabsfile\n",
      "    return os.path.normcase(os.path.abspath(_filename))\n",
      "  File \"/Users/Coho/anaconda3/lib/python3.6/posixpath.py\", line 376, in abspath\n",
      "    cwd = os.getcwd()\n",
      "FileNotFoundError: [Errno 2] No such file or directory\n"
     ]
    },
    {
     "ename": "ModuleNotFoundError",
     "evalue": "No module named 'run_lstm'",
     "output_type": "error",
     "traceback": [
      "\u001b[0;31m---------------------------------------------------------------------------\u001b[0m"
     ]
    }
   ],
   "source": [
    "import os\n",
    "import run_lstm.py"
   ]
  },
  {
   "cell_type": "code",
   "execution_count": 6,
   "metadata": {},
   "outputs": [
    {
     "data": {
      "text/plain": [
       "2.6337099999999998"
      ]
     },
     "execution_count": 6,
     "metadata": {},
     "output_type": "execute_result"
    }
   ],
   "source": [
    "25.57 * .103"
   ]
  },
  {
   "cell_type": "code",
   "execution_count": null,
   "metadata": {
    "collapsed": true
   },
   "outputs": [],
   "source": []
  }
 ],
 "metadata": {
  "kernelspec": {
   "display_name": "Python 3",
   "language": "python",
   "name": "python3"
  },
  "language_info": {
   "codemirror_mode": {
    "name": "ipython",
    "version": 3
   },
   "file_extension": ".py",
   "mimetype": "text/x-python",
   "name": "python",
   "nbconvert_exporter": "python",
   "pygments_lexer": "ipython3",
   "version": "3.6.5"
  }
 },
 "nbformat": 4,
 "nbformat_minor": 2
}
