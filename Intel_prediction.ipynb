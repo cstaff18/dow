{
 "cells": [
  {
   "cell_type": "code",
   "execution_count": 48,
   "metadata": {
    "collapsed": true
   },
   "outputs": [],
   "source": [
    "import numpy as np\n",
    "import pandas as pd\n",
    "import matplotlib.pyplot as plt \n",
    "import matplotlib.dates as mdates\n",
    "import datetime\n",
    "from keras.models import Sequential\n",
    "from keras.layers import Dense, LSTM\n",
    "from sklearn.preprocessing import MinMaxScaler\n",
    "%matplotlib inline"
   ]
  },
  {
   "cell_type": "markdown",
   "metadata": {},
   "source": [
    "# Intel Stock Price Prediction\n",
    "\n",
    "## Time Series Analysis\n",
    "\n",
    "* EDA\n",
    "* Linear Regression \n",
    "* LSTM\n",
    "\n",
    "### EDA\n",
    "\n",
    "Our initial dataset consisted of the 30 Dow Jones Industrial Average stocks. We decided to choose only one stock, INTC, in order to produce a working model within the time allotted.\n",
    "\n",
    "* Train window : 90 days \n",
    "* Prediction window : 10 days"
   ]
  },
  {
   "cell_type": "code",
   "execution_count": 18,
   "metadata": {},
   "outputs": [],
   "source": []
  },
  {
   "cell_type": "code",
   "execution_count": 4,
   "metadata": {},
   "outputs": [],
   "source": [
    "df = pd.read_csv('data/INTC.csv')"
   ]
  },
  {
   "cell_type": "code",
   "execution_count": 5,
   "metadata": {},
   "outputs": [
    {
     "data": {
      "text/html": [
       "<div>\n",
       "<style>\n",
       "    .dataframe thead tr:only-child th {\n",
       "        text-align: right;\n",
       "    }\n",
       "\n",
       "    .dataframe thead th {\n",
       "        text-align: left;\n",
       "    }\n",
       "\n",
       "    .dataframe tbody tr th {\n",
       "        vertical-align: top;\n",
       "    }\n",
       "</style>\n",
       "<table border=\"1\" class=\"dataframe\">\n",
       "  <thead>\n",
       "    <tr style=\"text-align: right;\">\n",
       "      <th></th>\n",
       "      <th>Date</th>\n",
       "      <th>Open</th>\n",
       "      <th>High</th>\n",
       "      <th>Low</th>\n",
       "      <th>Close</th>\n",
       "      <th>Volume</th>\n",
       "      <th>Name</th>\n",
       "    </tr>\n",
       "  </thead>\n",
       "  <tbody>\n",
       "    <tr>\n",
       "      <th>0</th>\n",
       "      <td>2006-01-03</td>\n",
       "      <td>25.19</td>\n",
       "      <td>25.64</td>\n",
       "      <td>24.90</td>\n",
       "      <td>25.57</td>\n",
       "      <td>56409085</td>\n",
       "      <td>INTC</td>\n",
       "    </tr>\n",
       "    <tr>\n",
       "      <th>1</th>\n",
       "      <td>2006-01-04</td>\n",
       "      <td>25.60</td>\n",
       "      <td>25.94</td>\n",
       "      <td>25.59</td>\n",
       "      <td>25.91</td>\n",
       "      <td>46189650</td>\n",
       "      <td>INTC</td>\n",
       "    </tr>\n",
       "    <tr>\n",
       "      <th>2</th>\n",
       "      <td>2006-01-05</td>\n",
       "      <td>25.93</td>\n",
       "      <td>26.47</td>\n",
       "      <td>25.91</td>\n",
       "      <td>26.27</td>\n",
       "      <td>54893195</td>\n",
       "      <td>INTC</td>\n",
       "    </tr>\n",
       "    <tr>\n",
       "      <th>3</th>\n",
       "      <td>2006-01-06</td>\n",
       "      <td>26.48</td>\n",
       "      <td>26.63</td>\n",
       "      <td>26.21</td>\n",
       "      <td>26.31</td>\n",
       "      <td>45703307</td>\n",
       "      <td>INTC</td>\n",
       "    </tr>\n",
       "    <tr>\n",
       "      <th>4</th>\n",
       "      <td>2006-01-09</td>\n",
       "      <td>26.39</td>\n",
       "      <td>26.51</td>\n",
       "      <td>26.09</td>\n",
       "      <td>26.47</td>\n",
       "      <td>39461729</td>\n",
       "      <td>INTC</td>\n",
       "    </tr>\n",
       "  </tbody>\n",
       "</table>\n",
       "</div>"
      ],
      "text/plain": [
       "         Date   Open   High    Low  Close    Volume  Name\n",
       "0  2006-01-03  25.19  25.64  24.90  25.57  56409085  INTC\n",
       "1  2006-01-04  25.60  25.94  25.59  25.91  46189650  INTC\n",
       "2  2006-01-05  25.93  26.47  25.91  26.27  54893195  INTC\n",
       "3  2006-01-06  26.48  26.63  26.21  26.31  45703307  INTC\n",
       "4  2006-01-09  26.39  26.51  26.09  26.47  39461729  INTC"
      ]
     },
     "execution_count": 5,
     "metadata": {},
     "output_type": "execute_result"
    }
   ],
   "source": [
    "df.head()\n"
   ]
  },
  {
   "cell_type": "code",
   "execution_count": 6,
   "metadata": {
    "collapsed": true
   },
   "outputs": [],
   "source": [
    "# convert df['Date'] columns to date type select dates \n",
    "def date_filter(df, start_date):\n",
    "    df.reset_index(level=0, inplace = True)\n",
    "    df['Date'] = pd.to_datetime(df['Date'])\n",
    "    df = df[df['Date'] >= start_date][['Date', 'Adj. Close']]  \n",
    "    return df "
   ]
  },
  {
   "cell_type": "code",
   "execution_count": 7,
   "metadata": {
    "collapsed": true
   },
   "outputs": [],
   "source": [
    "df['Date'] = pd.to_datetime(df['Date'])"
   ]
  },
  {
   "cell_type": "code",
   "execution_count": 17,
   "metadata": {
    "scrolled": false
   },
   "outputs": [
    {
     "data": {
      "image/png": "[encoded data removed]",
      "text/plain": [
       "<matplotlib.figure.Figure at 0x10e61d8d0>"
      ]
     },
     "metadata": {},
     "output_type": "display_data"
    }
   ],
   "source": [
    "### Plot Price Action of INTC\n",
    "# Setup date locator items for plotting/ x-axis\n",
    "years = mdates.YearLocator()   # every year\n",
    "months = mdates.MonthLocator()  # every month\n",
    "yearsFmt = mdates.DateFormatter('%Y')\n",
    "\n",
    "fig, ax = plt.subplots(1, 1, figsize=(8,8))\n",
    "    \n",
    "symbol = 'INTC'\n",
    "ax.xaxis.set_major_locator(years)\n",
    "ax.xaxis.set_major_formatter(yearsFmt)\n",
    "ax.xaxis.set_minor_locator(months)\n",
    "datemin = datetime.date(df.Date.min().year, 1, 1)\n",
    "datemax = datetime.date(df.Date.max().year + 1, 1, 1)\n",
    "ax.set_xlim(datemin, datemax)\n",
    "ax.plot(df.Date, df['Close'], label=f'{symbol}', color='b')\n",
    "ax.set_title(f'{symbol} Price')\n",
    "plt.legend()\n",
    "plt.tight_layout()"
   ]
  },
  {
   "cell_type": "code",
   "execution_count": 30,
   "metadata": {},
   "outputs": [
    {
     "data": {
      "text/html": [
       "<div>\n",
       "<style>\n",
       "    .dataframe thead tr:only-child th {\n",
       "        text-align: right;\n",
       "    }\n",
       "\n",
       "    .dataframe thead th {\n",
       "        text-align: left;\n",
       "    }\n",
       "\n",
       "    .dataframe tbody tr th {\n",
       "        vertical-align: top;\n",
       "    }\n",
       "</style>\n",
       "<table border=\"1\" class=\"dataframe\">\n",
       "  <thead>\n",
       "    <tr style=\"text-align: right;\">\n",
       "      <th></th>\n",
       "      <th>Date</th>\n",
       "      <th>Open</th>\n",
       "      <th>High</th>\n",
       "      <th>Low</th>\n",
       "      <th>Close</th>\n",
       "      <th>Volume</th>\n",
       "      <th>Name</th>\n",
       "      <th>Growth</th>\n",
       "    </tr>\n",
       "  </thead>\n",
       "  <tbody>\n",
       "    <tr>\n",
       "      <th>3014</th>\n",
       "      <td>2017-12-22</td>\n",
       "      <td>46.33</td>\n",
       "      <td>47.02</td>\n",
       "      <td>46.02</td>\n",
       "      <td>46.70</td>\n",
       "      <td>33913537</td>\n",
       "      <td>INTC</td>\n",
       "      <td>-0.001283</td>\n",
       "    </tr>\n",
       "    <tr>\n",
       "      <th>3015</th>\n",
       "      <td>2017-12-26</td>\n",
       "      <td>46.28</td>\n",
       "      <td>46.47</td>\n",
       "      <td>45.95</td>\n",
       "      <td>46.08</td>\n",
       "      <td>15533328</td>\n",
       "      <td>INTC</td>\n",
       "      <td>-0.013276</td>\n",
       "    </tr>\n",
       "    <tr>\n",
       "      <th>3016</th>\n",
       "      <td>2017-12-27</td>\n",
       "      <td>46.11</td>\n",
       "      <td>46.36</td>\n",
       "      <td>46.00</td>\n",
       "      <td>46.11</td>\n",
       "      <td>13359671</td>\n",
       "      <td>INTC</td>\n",
       "      <td>0.000651</td>\n",
       "    </tr>\n",
       "    <tr>\n",
       "      <th>3017</th>\n",
       "      <td>2017-12-28</td>\n",
       "      <td>46.36</td>\n",
       "      <td>46.36</td>\n",
       "      <td>45.95</td>\n",
       "      <td>46.22</td>\n",
       "      <td>9504372</td>\n",
       "      <td>INTC</td>\n",
       "      <td>0.002386</td>\n",
       "    </tr>\n",
       "    <tr>\n",
       "      <th>3018</th>\n",
       "      <td>2017-12-29</td>\n",
       "      <td>46.21</td>\n",
       "      <td>46.49</td>\n",
       "      <td>46.09</td>\n",
       "      <td>46.16</td>\n",
       "      <td>17394491</td>\n",
       "      <td>INTC</td>\n",
       "      <td>-0.001298</td>\n",
       "    </tr>\n",
       "  </tbody>\n",
       "</table>\n",
       "</div>"
      ],
      "text/plain": [
       "           Date   Open   High    Low  Close    Volume  Name    Growth\n",
       "3014 2017-12-22  46.33  47.02  46.02  46.70  33913537  INTC -0.001283\n",
       "3015 2017-12-26  46.28  46.47  45.95  46.08  15533328  INTC -0.013276\n",
       "3016 2017-12-27  46.11  46.36  46.00  46.11  13359671  INTC  0.000651\n",
       "3017 2017-12-28  46.36  46.36  45.95  46.22   9504372  INTC  0.002386\n",
       "3018 2017-12-29  46.21  46.49  46.09  46.16  17394491  INTC -0.001298"
      ]
     },
     "execution_count": 30,
     "metadata": {},
     "output_type": "execute_result"
    }
   ],
   "source": [
    "df.tail()"
   ]
  },
  {
   "cell_type": "markdown",
   "metadata": {},
   "source": [
    "\n"
   ]
  },
  {
   "cell_type": "code",
   "execution_count": 22,
   "metadata": {},
   "outputs": [],
   "source": [
    "close_values = df['Close'].values\n",
    "INTC_var = np.var(close_values)\n",
    "INTC_sig = np.sqrt(INTC_var)"
   ]
  },
  {
   "cell_type": "code",
   "execution_count": 23,
   "metadata": {},
   "outputs": [
    {
     "data": {
      "text/plain": [
       "6.727585375767282"
      ]
     },
     "execution_count": 23,
     "metadata": {},
     "output_type": "execute_result"
    }
   ],
   "source": [
    "INTC_sig"
   ]
  },
  {
   "cell_type": "code",
   "execution_count": 25,
   "metadata": {},
   "outputs": [
    {
     "data": {
      "text/html": [
       "<div>\n",
       "<style>\n",
       "    .dataframe thead tr:only-child th {\n",
       "        text-align: right;\n",
       "    }\n",
       "\n",
       "    .dataframe thead th {\n",
       "        text-align: left;\n",
       "    }\n",
       "\n",
       "    .dataframe tbody tr th {\n",
       "        vertical-align: top;\n",
       "    }\n",
       "</style>\n",
       "<table border=\"1\" class=\"dataframe\">\n",
       "  <thead>\n",
       "    <tr style=\"text-align: right;\">\n",
       "      <th></th>\n",
       "      <th>Open</th>\n",
       "      <th>High</th>\n",
       "      <th>Low</th>\n",
       "      <th>Close</th>\n",
       "      <th>Volume</th>\n",
       "    </tr>\n",
       "  </thead>\n",
       "  <tbody>\n",
       "    <tr>\n",
       "      <th>count</th>\n",
       "      <td>3019.000000</td>\n",
       "      <td>3019.000000</td>\n",
       "      <td>3019.000000</td>\n",
       "      <td>3019.00000</td>\n",
       "      <td>3.019000e+03</td>\n",
       "    </tr>\n",
       "    <tr>\n",
       "      <th>mean</th>\n",
       "      <td>25.396744</td>\n",
       "      <td>25.659096</td>\n",
       "      <td>25.142136</td>\n",
       "      <td>25.40789</td>\n",
       "      <td>4.919834e+07</td>\n",
       "    </tr>\n",
       "    <tr>\n",
       "      <th>std</th>\n",
       "      <td>6.715544</td>\n",
       "      <td>6.728572</td>\n",
       "      <td>6.700110</td>\n",
       "      <td>6.72870</td>\n",
       "      <td>2.817910e+07</td>\n",
       "    </tr>\n",
       "    <tr>\n",
       "      <th>min</th>\n",
       "      <td>12.170000</td>\n",
       "      <td>12.630000</td>\n",
       "      <td>12.050000</td>\n",
       "      <td>12.08000</td>\n",
       "      <td>5.893789e+06</td>\n",
       "    </tr>\n",
       "    <tr>\n",
       "      <th>25%</th>\n",
       "      <td>20.645000</td>\n",
       "      <td>20.880000</td>\n",
       "      <td>20.415000</td>\n",
       "      <td>20.66000</td>\n",
       "      <td>2.736445e+07</td>\n",
       "    </tr>\n",
       "    <tr>\n",
       "      <th>50%</th>\n",
       "      <td>23.600000</td>\n",
       "      <td>23.860000</td>\n",
       "      <td>23.320000</td>\n",
       "      <td>23.58000</td>\n",
       "      <td>4.519099e+07</td>\n",
       "    </tr>\n",
       "    <tr>\n",
       "      <th>75%</th>\n",
       "      <td>30.810000</td>\n",
       "      <td>31.105000</td>\n",
       "      <td>30.500000</td>\n",
       "      <td>30.85500</td>\n",
       "      <td>6.363350e+07</td>\n",
       "    </tr>\n",
       "    <tr>\n",
       "      <th>max</th>\n",
       "      <td>47.540000</td>\n",
       "      <td>47.640000</td>\n",
       "      <td>46.660000</td>\n",
       "      <td>47.56000</td>\n",
       "      <td>3.100734e+08</td>\n",
       "    </tr>\n",
       "  </tbody>\n",
       "</table>\n",
       "</div>"
      ],
      "text/plain": [
       "              Open         High          Low       Close        Volume\n",
       "count  3019.000000  3019.000000  3019.000000  3019.00000  3.019000e+03\n",
       "mean     25.396744    25.659096    25.142136    25.40789  4.919834e+07\n",
       "std       6.715544     6.728572     6.700110     6.72870  2.817910e+07\n",
       "min      12.170000    12.630000    12.050000    12.08000  5.893789e+06\n",
       "25%      20.645000    20.880000    20.415000    20.66000  2.736445e+07\n",
       "50%      23.600000    23.860000    23.320000    23.58000  4.519099e+07\n",
       "75%      30.810000    31.105000    30.500000    30.85500  6.363350e+07\n",
       "max      47.540000    47.640000    46.660000    47.56000  3.100734e+08"
      ]
     },
     "execution_count": 25,
     "metadata": {},
     "output_type": "execute_result"
    }
   ],
   "source": [
    "df.describe()\n"
   ]
  },
  {
   "cell_type": "code",
   "execution_count": 26,
   "metadata": {
    "collapsed": true
   },
   "outputs": [],
   "source": [
    "df['Growth'] = (df['Close']/df['Close'].shift(1)) - 1"
   ]
  },
  {
   "cell_type": "code",
   "execution_count": 41,
   "metadata": {},
   "outputs": [
    {
     "data": {
      "text/html": [
       "<div>\n",
       "<style>\n",
       "    .dataframe thead tr:only-child th {\n",
       "        text-align: right;\n",
       "    }\n",
       "\n",
       "    .dataframe thead th {\n",
       "        text-align: left;\n",
       "    }\n",
       "\n",
       "    .dataframe tbody tr th {\n",
       "        vertical-align: top;\n",
       "    }\n",
       "</style>\n",
       "<table border=\"1\" class=\"dataframe\">\n",
       "  <thead>\n",
       "    <tr style=\"text-align: right;\">\n",
       "      <th></th>\n",
       "      <th>Date</th>\n",
       "      <th>Open</th>\n",
       "      <th>High</th>\n",
       "      <th>Low</th>\n",
       "      <th>Close</th>\n",
       "      <th>Volume</th>\n",
       "      <th>Name</th>\n",
       "      <th>Growth</th>\n",
       "    </tr>\n",
       "  </thead>\n",
       "  <tbody>\n",
       "    <tr>\n",
       "      <th>0</th>\n",
       "      <td>2006-01-03</td>\n",
       "      <td>25.19</td>\n",
       "      <td>25.64</td>\n",
       "      <td>24.90</td>\n",
       "      <td>25.57</td>\n",
       "      <td>56409085</td>\n",
       "      <td>INTC</td>\n",
       "      <td>NaN</td>\n",
       "    </tr>\n",
       "    <tr>\n",
       "      <th>1</th>\n",
       "      <td>2006-01-04</td>\n",
       "      <td>25.60</td>\n",
       "      <td>25.94</td>\n",
       "      <td>25.59</td>\n",
       "      <td>25.91</td>\n",
       "      <td>46189650</td>\n",
       "      <td>INTC</td>\n",
       "      <td>0.013297</td>\n",
       "    </tr>\n",
       "    <tr>\n",
       "      <th>2</th>\n",
       "      <td>2006-01-05</td>\n",
       "      <td>25.93</td>\n",
       "      <td>26.47</td>\n",
       "      <td>25.91</td>\n",
       "      <td>26.27</td>\n",
       "      <td>54893195</td>\n",
       "      <td>INTC</td>\n",
       "      <td>0.013894</td>\n",
       "    </tr>\n",
       "    <tr>\n",
       "      <th>3</th>\n",
       "      <td>2006-01-06</td>\n",
       "      <td>26.48</td>\n",
       "      <td>26.63</td>\n",
       "      <td>26.21</td>\n",
       "      <td>26.31</td>\n",
       "      <td>45703307</td>\n",
       "      <td>INTC</td>\n",
       "      <td>0.001523</td>\n",
       "    </tr>\n",
       "    <tr>\n",
       "      <th>4</th>\n",
       "      <td>2006-01-09</td>\n",
       "      <td>26.39</td>\n",
       "      <td>26.51</td>\n",
       "      <td>26.09</td>\n",
       "      <td>26.47</td>\n",
       "      <td>39461729</td>\n",
       "      <td>INTC</td>\n",
       "      <td>0.006081</td>\n",
       "    </tr>\n",
       "  </tbody>\n",
       "</table>\n",
       "</div>"
      ],
      "text/plain": [
       "        Date   Open   High    Low  Close    Volume  Name    Growth\n",
       "0 2006-01-03  25.19  25.64  24.90  25.57  56409085  INTC       NaN\n",
       "1 2006-01-04  25.60  25.94  25.59  25.91  46189650  INTC  0.013297\n",
       "2 2006-01-05  25.93  26.47  25.91  26.27  54893195  INTC  0.013894\n",
       "3 2006-01-06  26.48  26.63  26.21  26.31  45703307  INTC  0.001523\n",
       "4 2006-01-09  26.39  26.51  26.09  26.47  39461729  INTC  0.006081"
      ]
     },
     "execution_count": 41,
     "metadata": {},
     "output_type": "execute_result"
    }
   ],
   "source": [
    "df.describe()\n",
    "df.head()"
   ]
  },
  {
   "cell_type": "code",
   "execution_count": null,
   "metadata": {
    "collapsed": true
   },
   "outputs": [],
   "source": [
    "df_close = df[['Date','Close']]\n",
    "df_close.head()\n",
    "train_set = df_close[df_close.Date.dt.year != 2017].Close.values \n",
    "test_set =  df_close[df_close.Date.dt.year == 2017].Close.values"
   ]
  },
  {
   "cell_type": "code",
   "execution_count": null,
   "metadata": {
    "collapsed": true
   },
   "outputs": [],
   "source": [
    "scaler = MinMaxScaler()\n",
    "training_set_scaled = scaler.fit_transform(train_set.reshape(-1, 1))"
   ]
  },
  {
   "cell_type": "code",
   "execution_count": null,
   "metadata": {
    "collapsed": true
   },
   "outputs": [],
   "source": [
    "def create_train_data(training_set_scaled):\n",
    "    X_train, y_train = [], []\n",
    "    for i in range(30, training_set_scaled.size):\n",
    "        X_train.append(training_set_scaled[i-30: i])\n",
    "        y_train.append(training_set_scaled[i])\n",
    "    # Converting list to numpy arrays\n",
    "    X_train = np.array(X_train)\n",
    "    y_train = np.array(y_train)\n",
    "    return X_train, y_train"
   ]
  },
  {
   "cell_type": "code",
   "execution_count": 67,
   "metadata": {},
   "outputs": [],
   "source": [
    "def create_test_data():\n",
    "    X_test = []\n",
    "    inputs = df_close[len(df_close) - len(test_set) - 30:].Close.values\n",
    "    inputs = scaler.transform(inputs.reshape(-1, 1))\n",
    "    for i in range(30, test_set.size+30): # Range of the number of values in the training dataset\n",
    "        X_test.append(inputs[i - 30: i, 0])\n",
    "    X_test = np.array(X_test)\n",
    "    X_test = np.reshape(X_test, (X_test.shape[0], X_test.shape[1], 1))\n",
    "    return X_test"
   ]
  },
  {
   "cell_type": "code",
   "execution_count": 53,
   "metadata": {
    "collapsed": true
   },
   "outputs": [],
   "source": [
    "def create_simple_model():\n",
    "    model = Sequential()\n",
    "    model.add(LSTM(units = 10, return_sequences = False, input_shape = (X_train.shape[1], 1)))\n",
    "    model.add(Dense(units = 1))\n",
    "    return model"
   ]
  },
  {
   "cell_type": "code",
   "execution_count": 54,
   "metadata": {
    "collapsed": true
   },
   "outputs": [],
   "source": [
    "def compile_and_run(model, epochs=50, batch_size=64):\n",
    "    model.compile(metrics=['accuracy'], optimizer='adam', loss='mean_squared_error')\n",
    "    history = model.fit(X_train, y_train, epochs=epochs, batch_size=batch_size, verbose=3)\n",
    "    return history"
   ]
  },
  {
   "cell_type": "code",
   "execution_count": null,
   "metadata": {
    "collapsed": true
   },
   "outputs": [],
   "source": [
    "def plot_metrics(history):\n",
    "    metrics_df = pd.DataFrame(data={\"loss\": history.history['loss']})\n",
    "    metrics_df.plot()"
   ]
  },
  {
   "cell_type": "code",
   "execution_count": null,
   "metadata": {
    "collapsed": true
   },
   "outputs": [],
   "source": []
  },
  {
   "cell_type": "code",
   "execution_count": 65,
   "metadata": {
    "collapsed": true
   },
   "outputs": [],
   "source": [
    "def make_predictions(X_test, model):\n",
    "    y_pred = model.predict(X_test)\n",
    "    final_predictions = scaler.inverse_transform(y_pred)\n",
    "    fp = np.ndarray.flatten(final_predictions)\n",
    "    ap = np.ndarray.flatten(test_set)\n",
    "    pdf = pd.DataFrame(data={'Actual': ap, 'Predicted': fp})\n",
    "    ax = pdf.plot()"
   ]
  },
  {
   "cell_type": "code",
   "execution_count": 62,
   "metadata": {},
   "outputs": [],
   "source": [
    "X_train, y_train = create_train_data(training_set_scaled)\n",
    "X_test = create_test_data()"
   ]
  },
  {
   "cell_type": "code",
   "execution_count": 63,
   "metadata": {},
   "outputs": [
    {
     "name": "stdout",
     "output_type": "stream",
     "text": [
      "Epoch 1/20\n",
      "Epoch 2/20\n",
      "Epoch 3/20\n",
      "Epoch 4/20\n",
      "Epoch 5/20\n",
      "Epoch 6/20\n",
      "Epoch 7/20\n",
      "Epoch 8/20\n",
      "Epoch 9/20\n",
      "Epoch 10/20\n",
      "Epoch 11/20\n",
      "Epoch 12/20\n",
      "Epoch 13/20\n",
      "Epoch 14/20\n",
      "Epoch 15/20\n",
      "Epoch 16/20\n",
      "Epoch 17/20\n",
      "Epoch 18/20\n",
      "Epoch 19/20\n",
      "Epoch 20/20\n"
     ]
    }
   ],
   "source": [
    "simple_model = create_simple_model()\n",
    "history = compile_and_run(simple_model, epochs=20)"
   ]
  },
  {
   "cell_type": "code",
   "execution_count": 64,
   "metadata": {},
   "outputs": [
    {
     "data": {
      "image/png": "[encoded data removed]",
      "text/plain": [
       "<matplotlib.figure.Figure at 0x11df6b128>"
      ]
     },
     "metadata": {},
     "output_type": "display_data"
    }
   ],
   "source": [
    "plot_metrics(history)"
   ]
  },
  {
   "cell_type": "code",
   "execution_count": 66,
   "metadata": {},
   "outputs": [
    {
     "data": {
      "image/png": "[encoded data removed]",
      "text/plain": [
       "<matplotlib.figure.Figure at 0x11e9f6978>"
      ]
     },
     "metadata": {},
     "output_type": "display_data"
    }
   ],
   "source": [
    "make_predictions(X_test, simple_model)"
   ]
  },
  {
   "cell_type": "code",
   "execution_count": 69,
   "metadata": {},
   "outputs": [],
   "source": [
    "df_2017 = df_close[df_close.Date.dt.year == 2017].Close.values"
   ]
  },
  {
   "cell_type": "code",
   "execution_count": 73,
   "metadata": {},
   "outputs": [],
   "source": [
    "return_2017 = (df_2017[-1]/df_2017[0]) - 1 "
   ]
  },
  {
   "cell_type": "code",
   "execution_count": 74,
   "metadata": {},
   "outputs": [
    {
     "data": {
      "text/plain": [
       "0.26120218579234966"
      ]
     },
     "execution_count": 74,
     "metadata": {},
     "output_type": "execute_result"
    }
   ],
   "source": [
    "return_2017"
   ]
  },
  {
   "cell_type": "code",
   "execution_count": null,
   "metadata": {
    "collapsed": true
   },
   "outputs": [],
   "source": []
  }
 ],
 "metadata": {
  "kernelspec": {
   "display_name": "Python 3",
   "language": "python",
   "name": "python3"
  },
  "language_info": {
   "codemirror_mode": {
    "name": "ipython",
    "version": 3
   },
   "file_extension": ".py",
   "mimetype": "text/x-python",
   "name": "python",
   "nbconvert_exporter": "python",
   "pygments_lexer": "ipython3",
   "version": "3.6.1"
  }
 },
 "nbformat": 4,
 "nbformat_minor": 2
}
